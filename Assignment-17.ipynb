{
 "cells": [
  {
   "cell_type": "code",
   "execution_count": 6,
   "metadata": {},
   "outputs": [
    {
     "name": "stdout",
     "output_type": "stream",
     "text": [
      "42\n"
     ]
    }
   ],
   "source": [
    "Question1. Create a function that takes three arguments a, b, c and returns the sum of the\n",
    "numbers that are evenly divided by c from the range a, b inclusive.\n",
    "Examples\n",
    "evenly_divisible(1, 10, 20) ➞ 0\n",
    "# No number between 1 and 10 can be evenly divided by 20.\n",
    "evenly_divisible(1, 10, 2) ➞ 30\n",
    "# 2 + 4 + 6 + 8 + 10 = 30\n",
    "evenly_divisible(1, 10, 3) ➞ 18\n",
    "# 3 + 6 + 9 = 18\n",
    "# divisible by M in the given range\n",
    "\n",
    "Ans:\n",
    " \n",
    "# Function to find the sum of numbers\n",
    "# divisible by M in the given range\n",
    "def sumDivisibles(A, B, M):\n",
    " \n",
    "    # Variable to store the sum\n",
    "    sum = 0\n",
    " \n",
    "    # Running a loop from A to B and check\n",
    "    # if a number is divisible by i.\n",
    "    for i in range(A, B + 1):\n",
    " \n",
    "        # If the number is divisible,\n",
    "        # then add it to sum\n",
    "        if (i % M == 0):\n",
    "            sum += i\n",
    " \n",
    "    # Return the sum\n",
    "    return sum\n",
    " \n",
    "# Driver code\n",
    "if __name__==\"__main__\":\n",
    "     \n",
    " \n",
    "    # Printing the result\n",
    "    print(sumDivisibles(6, 15, 3))\n"
   ]
  },
  {
   "cell_type": "code",
   "execution_count": 45,
   "metadata": {},
   "outputs": [
    {
     "name": "stdout",
     "output_type": "stream",
     "text": [
      "True\n",
      "False\n",
      "False\n"
     ]
    }
   ],
   "source": [
    "Question2. Create a function that returns True if a given inequality expression is correct and\n",
    "False otherwise.\n",
    "Examples\n",
    "correct_signs(&quot;3 &lt; 7 &lt; 11&quot;) ➞ True\n",
    "correct_signs(&quot;13 &gt; 44 &gt; 33 &gt; 1&quot;) ➞ False\n",
    "correct_signs(&quot;1 &lt; 2 &lt; 6 &lt; 9 &gt; 3&quot;) ➞ True\n",
    "\n",
    "Ans:\n",
    "    \n",
    "def exp(n):\n",
    "    return n\n",
    "\n",
    "print(exp(25>24<26))\n",
    "print(exp(30<54>56))\n",
    "print(exp(25>24<22))"
   ]
  },
  {
   "cell_type": "code",
   "execution_count": null,
   "metadata": {},
   "outputs": [],
   "source": []
  },
  {
   "cell_type": "code",
   "execution_count": 47,
   "metadata": {},
   "outputs": [
    {
     "name": "stdout",
     "output_type": "stream",
     "text": [
      "Given Sting: Hello i am Manoj Kumar\n",
      "Given Specified Character: #\n",
      "Afer replacing vowels with the specified character: H#ll# # #m M#n#j K#m#r\n"
     ]
    }
   ],
   "source": [
    "Question3. Create a function that replaces all the vowels in a string with a specified character.\n",
    "Examples\n",
    "replace_vowels(&quot;the aardvark&quot;, &quot;#&quot;) ➞ &quot;th# ##rdv#rk&quot;\n",
    "replace_vowels(&quot;minnie mouse&quot;, &quot;?&quot;) ➞ &quot;m?nn?? m??s?&quot;\n",
    "replace_vowels(&quot;shakespeare&quot;, &quot;*&quot;) ➞ &quot;sh*k*sp**r*&quot;\n",
    "# Function to Replace each vowel in\n",
    "# the string with a specified character\n",
    "               \n",
    "Ans:\n",
    "               \n",
    "def replaceVowelsWithK(test_str, K):\n",
    "  \n",
    "    # string of vowels\n",
    "    vowels = 'AEIOUaeiou'\n",
    "  \n",
    "    # iterating to check vowels in string\n",
    "    for ele in vowels:\n",
    "  \n",
    "        # replacing vowel with the specified character\n",
    "        test_str = test_str.replace(ele, K)\n",
    "  \n",
    "    return test_str\n",
    "  \n",
    "  \n",
    "    \n",
    "# Driver Code\n",
    "# input string\n",
    "input_str = \"Hello i am Manoj Kumar\"\n",
    "  \n",
    "# specified character\n",
    "K = \"#\"\n",
    "  \n",
    "# printing input\n",
    "print(\"Given Sting:\", input_str)\n",
    "print(\"Given Specified Character:\", K)\n",
    "  \n",
    "# printing output\n",
    "print(\"Afer replacing vowels with the specified character:\",\n",
    "      replaceVowelsWithK(input_str, K))"
   ]
  },
  {
   "cell_type": "code",
   "execution_count": 55,
   "metadata": {},
   "outputs": [
    {
     "name": "stdout",
     "output_type": "stream",
     "text": [
      "enter an number : 5\n",
      "The factorial is : 120\n"
     ]
    }
   ],
   "source": [
    "Question4. Write a function that calculates the factorial of a number recursively.\n",
    "Examples\n",
    "factorial(5) ➞ 120\n",
    "factorial(3) ➞ 6\n",
    "factorial(1) ➞ 1\n",
    "factorial(0) ➞ 1\n",
    "\n",
    "Ans:\n",
    "n = int(input(\"enter an number : \"))\n",
    "fact = 1\n",
    "  \n",
    "for i in range(1,n+1):\n",
    "    fact = fact * i\n",
    "      \n",
    "print (\"The factorial is : \",end=\"\")\n",
    "print (fact)"
   ]
  },
  {
   "cell_type": "code",
   "execution_count": 51,
   "metadata": {},
   "outputs": [
    {
     "name": "stdout",
     "output_type": "stream",
     "text": [
      "hamming distance given stirngs are  5\n"
     ]
    }
   ],
   "source": [
    "Question 5\n",
    "Hamming distance is the number of characters that differ between two strings.\n",
    "To illustrate:\n",
    "String1: &quot;abcbba&quot;\n",
    "String2: &quot;abcbda&quot;\n",
    "Hamming Distance: 1 - &quot;b&quot; vs. &quot;d&quot; is the only difference.\n",
    "Create a function that computes the hamming distance between two strings.\n",
    "Examples\n",
    "hamming_distance(&quot;abcde&quot;, &quot;bcdef&quot;) ➞ 5\n",
    "hamming_distance(&quot;abcde&quot;, &quot;abcde&quot;) ➞ 0\n",
    "hamming_distance(&quot;strong&quot;, &quot;strung&quot;) ➞ 1\n",
    "\n",
    "Ans:\n",
    "    \n",
    "def hammingDist(str1, str2):\n",
    "    i = 0\n",
    "    count = 0\n",
    " \n",
    "    while(i < len(str1)):\n",
    "        if(str1[i] != str2[i]):\n",
    "            count += 1\n",
    "        i += 1\n",
    "    return count\n",
    " \n",
    "# Driver code \n",
    "str1 = \"Manojpractise\"\n",
    "str2 = \"nerdspractise\"\n",
    " \n",
    "# function call\n",
    "print(\"hamming distance given stirngs are \",hammingDist(str1, str2))"
   ]
  },
  {
   "cell_type": "code",
   "execution_count": null,
   "metadata": {},
   "outputs": [],
   "source": []
  }
 ],
 "metadata": {
  "kernelspec": {
   "display_name": "Python 3",
   "language": "python",
   "name": "python3"
  },
  "language_info": {
   "codemirror_mode": {
    "name": "ipython",
    "version": 3
   },
   "file_extension": ".py",
   "mimetype": "text/x-python",
   "name": "python",
   "nbconvert_exporter": "python",
   "pygments_lexer": "ipython3",
   "version": "3.8.5"
  }
 },
 "nbformat": 4,
 "nbformat_minor": 4
}
